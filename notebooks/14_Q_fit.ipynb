{
 "metadata": {
  "language_info": {
   "codemirror_mode": {
    "name": "ipython",
    "version": 3
   },
   "file_extension": ".py",
   "mimetype": "text/x-python",
   "name": "python",
   "nbconvert_exporter": "python",
   "pygments_lexer": "ipython3",
   "version": "3.8.5"
  },
  "orig_nbformat": 2,
  "kernelspec": {
   "name": "python385jvsc74a57bd09f7f2421905fce92ca00b6e0dffd2aa7b7b0d500e62ea2bdab19ed4bf5fa2c92",
   "display_name": "Python 3.8.5  ('thenv': venv)"
  },
  "metadata": {
   "interpreter": {
    "hash": "9f7f2421905fce92ca00b6e0dffd2aa7b7b0d500e62ea2bdab19ed4bf5fa2c92"
   }
  }
 },
 "nbformat": 4,
 "nbformat_minor": 2,
 "cells": [
  {
   "cell_type": "code",
   "execution_count": 51,
   "metadata": {},
   "outputs": [],
   "source": [
    "import numpy as np\n",
    "import matplotlib.pyplot as plt\n",
    "import scipy"
   ]
  },
  {
   "cell_type": "code",
   "execution_count": 6,
   "metadata": {},
   "outputs": [],
   "source": [
    "import modules.experiment.events as expevents\n",
    "import modules.experiment.fov as expfov\n",
    "import modules.utils as utils\n",
    "import modules.plots.experimental_data as expplots\n",
    "import modules.eas_reconstruction as eas\n",
    "\n",
    "from modules_reloader import reloader\n",
    "\n",
    "relmod = reloader(expevents, expfov, utils, expplots, eas)"
   ]
  },
  {
   "cell_type": "code",
   "execution_count": 9,
   "metadata": {},
   "outputs": [],
   "source": [
    "relmod()"
   ]
  },
  {
   "cell_type": "code",
   "execution_count": 37,
   "metadata": {},
   "outputs": [],
   "source": [
    "processor = expevents.EventProcessor(N=45, verbosity=1, load_rir=False, min_signal_significance=4)\n",
    "L = 10\n",
    "N = processor.N"
   ]
  },
  {
   "cell_type": "code",
   "execution_count": 38,
   "metadata": {},
   "outputs": [],
   "source": [
    "event_id = 10675\n",
    "event = expevents.Event(event_id)"
   ]
  },
  {
   "cell_type": "code",
   "execution_count": 39,
   "metadata": {},
   "outputs": [],
   "source": [
    "fov = expfov.PmtFov.for_event(event_id)"
   ]
  },
  {
   "cell_type": "code",
   "execution_count": 43,
   "metadata": {},
   "outputs": [],
   "source": [
    "n_samples, has_signal = processor.read_reconstruction_marginal_sample_per_channel(event.id_, parameter='n')\n",
    "significant = processor.read_signal_significances(event.id_)[has_signal] > processor.min_signal_significance\n",
    "axis_theta, axis_phi, inplane = processor.reconstruct_eas_angle(event)\n",
    "\n",
    "channels = np.arange(109)\n",
    "\n",
    "channels = channels[has_signal][significant][inplane]\n",
    "n_samples = n_samples[:, significant][:, inplane]"
   ]
  },
  {
   "cell_type": "code",
   "execution_count": 104,
   "metadata": {},
   "outputs": [],
   "source": [
    "n_samples = np.round(n_samples).astype(int)"
   ]
  },
  {
   "cell_type": "code",
   "execution_count": 129,
   "metadata": {},
   "outputs": [],
   "source": [
    "n_means = np.zeros((n_samples.shape[0]))\n",
    "n_stds = np.zeros((n_samples.shape[0]))\n",
    "\n",
    "for i, n_i_sample in enumerate(n_samples.T):\n",
    "    n_i_sample_round = np.round(n_i_sample).astype(int)\n",
    "    p_obs = np.bincount(n_i_sample_round[n_i_sample_round > 0])\n",
    "    n_obs = np.arange(p_obs.size)\n",
    "    n_obs = n_obs[p_obs > 0]\n",
    "    p_obs = p_obs[p_obs > 0]\n",
    "\n",
    "    # lmb_min = max(n_obs.min() / 2, 0)\n",
    "    lmb_query = np.linspace(0.0, 2 * n_obs.max(), 1000, dtype=float)\n",
    "    p_obs = p_obs / np.sum(p_obs)\n",
    "\n",
    "    lmb_pdf = np.zeros_like(lmb_query)\n",
    "    for n, p in zip(n_obs, p_obs):\n",
    "        lmb_pdf += p*scipy.stats.poisson.pmf(n, lmb_query)\n",
    "\n",
    "    lmb_step = lmb_query[1] - lmb_query[0]\n",
    "    n_final_mean = np.sum(lmb_query * lmb_pdf * lmb_step)\n",
    "    n_sq_final_mean = np.sum(lmb_query**2 * lmb_pdf * lmb_step)\n",
    "    n_final_std = np.sqrt(n_sq_final_mean - n_final_mean ** 2)\n",
    "\n",
    "    n_means[i] = n_final_mean\n",
    "    n_stds[i] = n_final_std\n",
    "\n",
    "    # plt.hist(n_i_sample, density=True)\n",
    "    # plt.plot(lmb_query, lmb_pdf)\n",
    "    # break\n",
    "\n",
    "    # print(f'before poisson: {n_i_sample.mean()} +/- {n_i_sample.std()}')\n",
    "    # print(f'after poisson: {n_final_mean} +/- {n_final_std}')\n"
   ]
  },
  {
   "cell_type": "code",
   "execution_count": 13,
   "metadata": {},
   "outputs": [],
   "source": [
    "axis_x, axis_y, _, _ = processor.read_eas_geometry(event.id_)"
   ]
  },
  {
   "cell_type": "code",
   "execution_count": 14,
   "metadata": {},
   "outputs": [],
   "source": [
    "axis_x_proj, axis_y_proj = eas.project_on_shower_plane(np.array([axis_x]), np.array([axis_y]), axis_theta, axis_phi)"
   ]
  },
  {
   "cell_type": "code",
   "execution_count": 16,
   "metadata": {},
   "outputs": [],
   "source": [
    "fov_x_proj, fov_y_proj = eas.project_on_shower_plane(fov.x, fov.y, axis_theta, axis_phi)\n",
    "\n",
    "fov_x_proj -= axis_x_proj\n",
    "fov_y_proj -= axis_y_proj"
   ]
  },
  {
   "cell_type": "code",
   "execution_count": 24,
   "metadata": {},
   "outputs": [
    {
     "output_type": "stream",
     "name": "stderr",
     "text": [
      "100%|██████████| 109/109 [00:06<00:00, 16.30it/s]\n"
     ]
    }
   ],
   "source": [
    "from scipy.interpolate import griddata\n",
    "from tqdm import trange\n",
    "\n",
    "FOV_proj = np.zeros((109, fov.side, fov.side))\n",
    "\n",
    "for i_ch in trange(109):\n",
    "    fov_grid = fov.grid()\n",
    "    x_ch, y_ch = np.meshgrid(fov_grid, fov_grid)\n",
    "    x_ch = x_ch.flatten()\n",
    "    y_ch = y_ch.flatten()\n",
    "    x_ch_proj, y_ch_proj = eas.project_on_shower_plane(x_ch, y_ch, axis_theta, axis_phi)\n",
    "    FOV_ch = np.squeeze(fov.FOV[i_ch, :, :]).flatten()\n",
    "    FOV_proj[i_ch, :, :] = griddata(\n",
    "        utils.concat_vectors_as_cols(x_ch_proj, y_ch_proj),\n",
    "        FOV_ch,\n",
    "        utils.concat_vectors_as_cols(x_ch, y_ch),\n",
    "        method='cubic',\n",
    "        fill_value=0.0,\n",
    "    ).reshape(fov.side, fov.side)\n",
    "\n",
    "\n",
    "fov_proj = expfov.PmtFov(\n",
    "    FOVc=np.concatenate((np.expand_dims(fov_x_proj, 1), np.expand_dims(fov_y_proj, 1)), axis=1),\n",
    "    FOV=FOV_proj\n",
    ")"
   ]
  },
  {
   "cell_type": "code",
   "execution_count": 31,
   "metadata": {},
   "outputs": [],
   "source": [
    "# see https://arxiv.org/pdf/astro-ph/0511215.pdf\n",
    "\n",
    "def Q(x, y, P, Qkn):\n",
    "    R = np.sqrt(x ** 2 + y ** 2)\n",
    "    R0 = 10 ** (2.95 - 0.245 * P)\n",
    "    Rkn = 155 - 13 * P\n",
    "    b = 1.19 + 0.23 * P\n",
    "    Q_ = np.zeros_like(R)\n",
    "    Q_[R < Rkn] = Qkn * np.exp((Rkn - R) * (1 + 3 / (R + 3)) / R0)\n",
    "    Q_[R >= Rkn] = Qkn * (Rkn / R) ** b\n",
    "    return Q_\n",
    "\n",
    "def theory_n_phels_in_ch(i_ch, P, Qkn):\n",
    "    # see 13_pmt_quantum_efficiencies.ipynb for magic numbers\n",
    "    #           Hamamatsu                                ФЭУ84-3\n",
    "    coeff = 1 / 2.943031538444593 if i_ch == 0 else 1 / 2.5745613410569366\n",
    "    fov_grid = fov_proj.grid()\n",
    "    x, y = np.meshgrid(fov_grid, fov_grid)\n",
    "    x = x.flatten() + fov_proj.FOVc[i_ch, 0]\n",
    "    y = y.flatten() + fov_proj.FOVc[i_ch, 1]\n",
    "    f = np.squeeze(fov_proj.FOV[i_ch, :, :]).flatten()\n",
    "    x = x[f > 1e-15]\n",
    "    y = y[f > 1e-15]\n",
    "    f = f[f > 1e-15]\n",
    "    Q_vals = Q(x, y, P, Qkn)\n",
    "    return coeff * np.sum(Q_vals * f) * fov_proj.step ** 2\n"
   ]
  },
  {
   "cell_type": "code",
   "execution_count": 32,
   "metadata": {},
   "outputs": [],
   "source": [
    "from scipy.optimize import curve_fit\n",
    "\n",
    "curve_fit(\n",
    "    theory_n_phels_in_ch,\n",
    "    \n",
    ")"
   ]
  }
 ]
}